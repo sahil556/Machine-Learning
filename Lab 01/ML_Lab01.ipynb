{
  "nbformat": 4,
  "nbformat_minor": 0,
  "metadata": {
    "colab": {
      "provenance": []
    },
    "kernelspec": {
      "name": "python3",
      "display_name": "Python 3"
    },
    "language_info": {
      "name": "python"
    }
  },
  "cells": [
    {
      "cell_type": "markdown",
      "source": [
        "Lab 1 : Machine Learning Practices"
      ],
      "metadata": {
        "id": "-_73rJdsg1SC"
      }
    },
    {
      "cell_type": "code",
      "execution_count": null,
      "metadata": {
        "colab": {
          "base_uri": "https://localhost:8080/"
        },
        "id": "fNAxnkUz9j-J",
        "outputId": "1a800aa2-0e48-4557-92c7-5a987809ea89"
      },
      "outputs": [
        {
          "output_type": "stream",
          "name": "stdout",
          "text": [
            "5  Type:  <class 'int'>\n",
            "[1, 2, 3]  TYPE:  <class 'list'>\n",
            "<class 'numpy.ndarray'>\n",
            "[2 4 6 8]\n",
            "[ 3  6  9 12]\n",
            "[[ 4.  6.  8.]\n",
            " [ 7.  9. 11.]]\n",
            "[[ 3.  8. 15.]\n",
            " [10. 18. 28.]]\n",
            "[[0.33333333 0.5        0.6       ]\n",
            " [0.4        0.5        0.57142857]]\n",
            "219\n"
          ]
        }
      ],
      "source": [
        "import numpy as np\n",
        "x = 5\n",
        "print(x , \" Type: \", type(x))\n",
        "x=[1,2,3]\n",
        "print(x,\" TYPE: \",type(x))\n",
        "\n",
        "narray = np.array([1, 2, 3, 4])\n",
        "narray1 = np.array([1, 2, 3])\n",
        "\n",
        "print(type(narray))\n",
        "\n",
        "print(narray + narray)\n",
        "print(narray * 3)\n",
        "\n",
        "x = np.array([[1,2,3],[2,3,4]], dtype=np.float64)\n",
        "y = np.array([[3,4,5],[5,6,7]], dtype=np.float64)\n",
        "\n",
        "print(x+y)\n",
        "print(x*y)\n",
        "print(x/y)\n",
        "\n",
        "\n",
        "v = np.array([9,10])\n",
        "w = np.array([11,12])\n",
        "\n",
        "# print(v.dot(w))\n",
        "print(v @ w)\n"
      ]
    },
    {
      "cell_type": "code",
      "source": [
        "import numpy as np\n",
        "x = np.array([[1,2],[3,4]])\n",
        "y = np.array([[5,6],[7,8]])\n",
        "\n",
        "# print(x@y)\n",
        "csum  = np.sum(x, axis=0)\n",
        "# print(csum)\n",
        "# print(np.sum(x, axis=1))\n",
        "print(x)\n",
        "# print(x.T)\n",
        "\n",
        "x = x - np.mean(x, axis = 0)\n",
        "y = y.T - np.mean(y, axis= 1)\n",
        "print(y.T)\n",
        "# print(x)\n",
        "print(np.mean(y))\n",
        "\n"
      ],
      "metadata": {
        "colab": {
          "base_uri": "https://localhost:8080/"
        },
        "id": "RJYCzvOeMDVI",
        "outputId": "d51ad39c-deed-4839-d9a3-f6f88c4c26e4"
      },
      "execution_count": null,
      "outputs": [
        {
          "output_type": "stream",
          "name": "stdout",
          "text": [
            "[[1 2]\n",
            " [3 4]]\n",
            "[[-0.5  0.5]\n",
            " [-0.5  0.5]]\n",
            "0.0\n"
          ]
        }
      ]
    },
    {
      "cell_type": "code",
      "source": [
        "x = np.array([[1,2],[3,4]])\n",
        "y = np.array([[5,6],[7,8]])\n",
        "v = np.array([9,10])\n",
        "w = np.array([11, 12])\n",
        "print(x.dot(v))\n",
        "\n",
        "x = np.array([[1,2],[3,4]])\n",
        "print(np.sum(x))\n",
        "print(np.sum(x, axis=0))\n",
        "\n",
        "print(x)\n",
        "print(\"transpose\\n\", x.T)\n",
        "\n",
        "okmatrix = np.array([[1, 2], [3, 4]]) # Define a 2x2 matrix\n",
        "print(okmatrix) # Print okmatrix\n",
        "print(okmatrix * 2)\n",
        "\n",
        "\n",
        "badmatrix = np.array([[1,2 ], [3, 4], [6,7, 8]], dtype=object)\n",
        "print(badmatrix) # Print the malformed matrix\n",
        "print(badmatrix * 2)\n",
        "\n",
        "result1 = okmatrix + okmatrix\n",
        "print(result1)\n",
        "# Subtract two sum compatible matrices. This is called the difference vector\n",
        "result2 = okmatrix - okmatrix\n",
        "print(result2)"
      ],
      "metadata": {
        "colab": {
          "base_uri": "https://localhost:8080/"
        },
        "id": "u_VC-YwRDQ5K",
        "outputId": "dc9057ac-8cd6-405a-d53b-d9aa81d0ca78"
      },
      "execution_count": null,
      "outputs": [
        {
          "output_type": "stream",
          "name": "stdout",
          "text": [
            "[29 67]\n",
            "10\n",
            "[4 6]\n",
            "[[1 2]\n",
            " [3 4]]\n",
            "transpose\n",
            " [[1 3]\n",
            " [2 4]]\n",
            "[[1 2]\n",
            " [3 4]]\n",
            "[[2 4]\n",
            " [6 8]]\n",
            "[list([1, 2]) list([3, 4]) list([6, 7, 8])]\n",
            "[list([1, 2, 1, 2]) list([3, 4, 3, 4]) list([6, 7, 8, 6, 7, 8])]\n",
            "[[2 4]\n",
            " [6 8]]\n",
            "[[0 0]\n",
            " [0 0]]\n"
          ]
        }
      ]
    },
    {
      "cell_type": "code",
      "source": [
        "nparray1 = np.array([1, 2, 3, 4]) # Define an array\n",
        "norm1 = np.linalg.norm(nparray1)\n",
        "print(norm1)\n",
        "\n",
        "narray1 = np.array([2,3,4,5])\n",
        " "
      ],
      "metadata": {
        "colab": {
          "base_uri": "https://localhost:8080/"
        },
        "id": "qg8gQZW_JX31",
        "outputId": "675142d7-ce20-40ed-cbbd-b8e27e65ca26"
      },
      "execution_count": null,
      "outputs": [
        {
          "output_type": "stream",
          "name": "stdout",
          "text": [
            "5.477225575051661\n",
            "11 = 11\n"
          ]
        }
      ]
    },
    {
      "cell_type": "markdown",
      "source": [
        "Assignment Question: \n",
        "\n",
        "\n",
        "Numpy Library"
      ],
      "metadata": {
        "id": "MQUEgbFEglhr"
      }
    },
    {
      "cell_type": "code",
      "source": [
        "# Create Two numpy array of size 4 X 5 and 5 X 4.\n",
        "nparray1 = np.random.randint(10, size=(4,5))\n",
        "nparray2 = np.random.randint(10, size=(5,4))\n",
        "\n",
        "print(nparray1)\n",
        "print(nparray2)\n",
        "\n",
        "\n",
        " \n",
        "print(\"matrix multiplication:\")\n",
        "print(np.dot(nparray1, nparray2));\n",
        "\n",
        "print(\"matrix element wise multiplication\")\n",
        "print(np.multiply(nparray1, nparray2.T))\n",
        "\n",
        "print(\"mean of array 1\")\n",
        "print(np.mean(nparray1))\n",
        "\n",
        "print(\"median of array 1\")\n",
        "print(np.median(nparray1))\n",
        "\n",
        "print(nparray1.T)\n",
        "\n",
        "smatrix = np.array([[1,2,3],[4,4,5],[5,5,7]]);\n",
        "print(smatrix)\n",
        "\n",
        "print(np.linalg.det(smatrix))\n",
        "print(\"obtaining each row of nparray1\")\n",
        "print(nparray1[:, 1])\n",
        "# print(nparray1[0:4,1])\n",
        "\n"
      ],
      "metadata": {
        "colab": {
          "base_uri": "https://localhost:8080/"
        },
        "id": "4KfO802hP6dm",
        "outputId": "12c13b55-43cf-4de4-cbcf-8dfd81e0fbcf"
      },
      "execution_count": null,
      "outputs": [
        {
          "output_type": "stream",
          "name": "stdout",
          "text": [
            "[[1 7 6 1 3]\n",
            " [4 9 9 5 8]\n",
            " [4 5 3 9 6]\n",
            " [1 9 4 4 0]]\n",
            "[[1 6 8 1]\n",
            " [5 0 5 1]\n",
            " [0 8 6 1]\n",
            " [8 6 6 4]\n",
            " [1 5 5 8]]\n",
            "matrix multiplication:\n",
            "[[ 47  75 100  42]\n",
            " [ 97 166 201 106]\n",
            " [107 132 159  96]\n",
            " [ 78  62 101  30]]\n",
            "matrix element wise multiplication\n",
            "[[ 1 35  0  8  3]\n",
            " [24  0 72 30 40]\n",
            " [32 25 18 54 30]\n",
            " [ 1  9  4 16  0]]\n",
            "mean of array 1\n",
            "4.9\n",
            "median of array 1\n",
            "4.5\n",
            "[[1 4 4 1]\n",
            " [7 9 5 9]\n",
            " [6 9 3 4]\n",
            " [1 5 9 4]\n",
            " [3 8 6 0]]\n",
            "[[1 2 3]\n",
            " [4 4 5]\n",
            " [5 5 7]]\n",
            "-3.000000000000002\n",
            "obtaining each row of nparray1\n",
            "[7 9 5 9]\n"
          ]
        }
      ]
    },
    {
      "cell_type": "code",
      "source": [
        "#Convert Numeric entries(columns) of mtcars.csv to Mean Centered Version\n",
        "import pandas as pd\n",
        "import numpy as np\n",
        "\n",
        "cars = pd.read_csv('/content/drive/MyDrive/colab/mtcars.csv')\n",
        "# print(cars)\n",
        "type(cars)\n",
        "\n",
        "#numeric columns : mpg,cyl,disp, hp, drat, wt, qsec, vs, am, gear, carb\n",
        "\n",
        "numeric = cars.iloc[:, 1:]\n",
        "numeric = numeric - np.mean(numeric, axis = 0)\n",
        "print(numeric)\n",
        "# print(np.mean(numeric, axis = 0))"
      ],
      "metadata": {
        "colab": {
          "base_uri": "https://localhost:8080/"
        },
        "id": "wch0mQEZh4ZC",
        "outputId": "4c149258-5a76-47c4-8d58-686157c0184a"
      },
      "execution_count": null,
      "outputs": [
        {
          "output_type": "stream",
          "name": "stdout",
          "text": [
            "          mpg     cyl        disp        hp      drat       wt     qsec  \\\n",
            "0    0.909375 -0.1875  -70.721875  -36.6875  0.303437 -0.59725 -1.38875   \n",
            "1    0.909375 -0.1875  -70.721875  -36.6875  0.303437 -0.34225 -0.82875   \n",
            "2    2.709375 -2.1875 -122.721875  -53.6875  0.253437 -0.89725  0.76125   \n",
            "3    1.309375 -0.1875   27.278125  -36.6875 -0.516563 -0.00225  1.59125   \n",
            "4   -1.390625  1.8125  129.278125   28.3125 -0.446563  0.22275 -0.82875   \n",
            "5   -1.990625 -0.1875   -5.721875  -41.6875 -0.836563  0.24275  2.37125   \n",
            "6   -5.790625  1.8125  129.278125   98.3125 -0.386563  0.35275 -2.00875   \n",
            "7    4.309375 -2.1875  -84.021875  -84.6875  0.093437 -0.02725  2.15125   \n",
            "8    2.709375 -2.1875  -89.921875  -51.6875  0.323437 -0.06725  5.05125   \n",
            "9   -0.890625 -0.1875  -63.121875  -23.6875  0.323437  0.22275  0.45125   \n",
            "10  -2.290625 -0.1875  -63.121875  -23.6875  0.323437  0.22275  1.05125   \n",
            "11  -3.690625  1.8125   45.078125   33.3125 -0.526563  0.85275 -0.44875   \n",
            "12  -2.790625  1.8125   45.078125   33.3125 -0.526563  0.51275 -0.24875   \n",
            "13  -4.890625  1.8125   45.078125   33.3125 -0.526563  0.56275  0.15125   \n",
            "14  -9.690625  1.8125  241.278125   58.3125 -0.666562  2.03275  0.13125   \n",
            "15  -9.690625  1.8125  229.278125   68.3125 -0.596563  2.20675 -0.02875   \n",
            "16  -5.390625  1.8125  209.278125   83.3125 -0.366563  2.12775 -0.42875   \n",
            "17  12.309375 -2.1875 -152.021875  -80.6875  0.483437 -1.01725  1.62125   \n",
            "18  10.309375 -2.1875 -155.021875  -94.6875  1.333437 -1.60225  0.67125   \n",
            "19  13.809375 -2.1875 -159.621875  -81.6875  0.623437 -1.38225  2.05125   \n",
            "20   1.409375 -2.1875 -110.621875  -49.6875  0.103438 -0.75225  2.16125   \n",
            "21  -4.590625  1.8125   87.278125    3.3125 -0.836563  0.30275 -0.97875   \n",
            "22  -4.890625  1.8125   73.278125    3.3125 -0.446563  0.21775 -0.54875   \n",
            "23  -6.790625  1.8125  119.278125   98.3125  0.133437  0.62275 -2.43875   \n",
            "24  -0.890625  1.8125  169.278125   28.3125 -0.516563  0.62775 -0.79875   \n",
            "25   7.209375 -2.1875 -151.721875  -80.6875  0.483437 -1.28225  1.05125   \n",
            "26   5.909375 -2.1875 -110.421875  -55.6875  0.833437 -1.07725 -1.14875   \n",
            "27  10.309375 -2.1875 -135.621875  -33.6875  0.173437 -1.70425 -0.94875   \n",
            "28  -4.290625  1.8125  120.278125  117.3125  0.623437 -0.04725 -3.34875   \n",
            "29  -0.390625 -0.1875  -85.721875   28.3125  0.023438 -0.44725 -2.34875   \n",
            "30  -5.090625  1.8125   70.278125  188.3125 -0.056563  0.35275 -3.24875   \n",
            "31   1.309375 -2.1875 -109.721875  -37.6875  0.513438 -0.43725  0.75125   \n",
            "\n",
            "        vs       am    gear    carb  \n",
            "0  -0.4375  0.59375  0.3125  1.1875  \n",
            "1  -0.4375  0.59375  0.3125  1.1875  \n",
            "2   0.5625  0.59375  0.3125 -1.8125  \n",
            "3   0.5625 -0.40625 -0.6875 -1.8125  \n",
            "4  -0.4375 -0.40625 -0.6875 -0.8125  \n",
            "5   0.5625 -0.40625 -0.6875 -1.8125  \n",
            "6  -0.4375 -0.40625 -0.6875  1.1875  \n",
            "7   0.5625 -0.40625  0.3125 -0.8125  \n",
            "8   0.5625 -0.40625  0.3125 -0.8125  \n",
            "9   0.5625 -0.40625  0.3125  1.1875  \n",
            "10  0.5625 -0.40625  0.3125  1.1875  \n",
            "11 -0.4375 -0.40625 -0.6875  0.1875  \n",
            "12 -0.4375 -0.40625 -0.6875  0.1875  \n",
            "13 -0.4375 -0.40625 -0.6875  0.1875  \n",
            "14 -0.4375 -0.40625 -0.6875  1.1875  \n",
            "15 -0.4375 -0.40625 -0.6875  1.1875  \n",
            "16 -0.4375 -0.40625 -0.6875  1.1875  \n",
            "17  0.5625  0.59375  0.3125 -1.8125  \n",
            "18  0.5625  0.59375  0.3125 -0.8125  \n",
            "19  0.5625  0.59375  0.3125 -1.8125  \n",
            "20  0.5625 -0.40625 -0.6875 -1.8125  \n",
            "21 -0.4375 -0.40625 -0.6875 -0.8125  \n",
            "22 -0.4375 -0.40625 -0.6875 -0.8125  \n",
            "23 -0.4375 -0.40625 -0.6875  1.1875  \n",
            "24 -0.4375 -0.40625 -0.6875 -0.8125  \n",
            "25  0.5625  0.59375  0.3125 -1.8125  \n",
            "26 -0.4375  0.59375  1.3125 -0.8125  \n",
            "27  0.5625  0.59375  1.3125 -0.8125  \n",
            "28 -0.4375  0.59375  1.3125  1.1875  \n",
            "29 -0.4375  0.59375  1.3125  3.1875  \n",
            "30 -0.4375  0.59375  1.3125  5.1875  \n",
            "31  0.5625  0.59375  0.3125 -0.8125  \n"
          ]
        }
      ]
    },
    {
      "cell_type": "markdown",
      "source": [
        " Exercise for NLTK Library: Perform all text preprocessing tasks on Movie Review Dataset"
      ],
      "metadata": {
        "id": "er_xDTR9mNi_"
      }
    },
    {
      "cell_type": "code",
      "source": [
        "import nltk\n",
        "nltk.download('movie_reviews')\n",
        "# from nltk.corpus import movie_reviews\n",
        "\n",
        "words = movie_reviews.words()\n",
        "\n",
        "\n",
        "nltk.download('stopwords')\n",
        "import re # library for regular expression␣\n",
        "import string # for string operations\n",
        "from nltk.corpus import stopwords # module for stop words that come␣\n",
        "from nltk.stem import PorterStemmer # module for stemming\n",
        "from nltk.tokenize import TweetTokenizer # module for tokenizing strings\n",
        "from nltk.stem import WordNetLemmatizer\n",
        "\n",
        "print(words)\n",
        "stopwords_english = stopwords.words('english')\n",
        "words_clean = []\n",
        "\n",
        "for word in words: # Go through every word in your tokens list\n",
        "  if (word not in stopwords_english and # remove stopwords\n",
        "  word not in string.punctuation): # remove punctuation\n",
        "    words_clean.append(word)\n",
        "\n",
        "\n",
        "stemmer = PorterStemmer()\n",
        "# Create an empty list to store the stems\n",
        "words_stem = []\n",
        "for word in words_clean:\n",
        "  stem_word = stemmer.stem(word) # stemming word\n",
        "  words_stem.append(stem_word) # append to the list\n",
        "print('stemmed words:')\n",
        "print(words_stem)\n"
      ],
      "metadata": {
        "id": "_oRRMGgRmYOi"
      },
      "execution_count": null,
      "outputs": []
    },
    {
      "cell_type": "markdown",
      "source": [
        "**NLTK LIbrary Practice**"
      ],
      "metadata": {
        "id": "qC9UDor8lwiK"
      }
    },
    {
      "cell_type": "code",
      "source": [
        "import nltk # Python library for NLP\n",
        "from nltk.corpus import twitter_samples # sample Twitter dataset from NLTK\n",
        "import matplotlib.pyplot as plt # library for visualization\n",
        "import random\n",
        "\n",
        "nltk.download('twitter_samples')"
      ],
      "metadata": {
        "id": "i7wyusoLXdIy",
        "colab": {
          "base_uri": "https://localhost:8080/"
        },
        "outputId": "d7c18171-1458-4e9b-8df9-53e96798c508"
      },
      "execution_count": null,
      "outputs": [
        {
          "output_type": "stream",
          "name": "stderr",
          "text": [
            "[nltk_data] Downloading package twitter_samples to /root/nltk_data...\n",
            "[nltk_data]   Unzipping corpora/twitter_samples.zip.\n"
          ]
        },
        {
          "output_type": "execute_result",
          "data": {
            "text/plain": [
              "True"
            ]
          },
          "metadata": {},
          "execution_count": 36
        }
      ]
    },
    {
      "cell_type": "markdown",
      "source": [
        "Pandas Library Assignment:\n",
        "Exercise for Pandas Library:\n",
        "1. Draw Scatter Plot between SepalLengthCm and SepalWidthCm for “Iris.csv” file with\n",
        "proper labeling."
      ],
      "metadata": {
        "id": "o3NWZYUYuuHj"
      }
    },
    {
      "cell_type": "code",
      "source": [
        "import numpy as np\n",
        "import matplotlib.pyplot as plt\n",
        "\n",
        "from sklearn import datasets #various toy datasets\n",
        "from sklearn import metrics #Check accuracy of model\n",
        "\n",
        "iris = datasets.load_iris()\n",
        "\n",
        "X = iris.data\n",
        "y= iris.target\n",
        "feature_names = iris.feature_names\n",
        "target_names = iris.target_names\n",
        "print(\"Feature names:\", feature_names)\n",
        "print(\"Target names:\", target_names)\n",
        "\n",
        "# print(\"\\nFirst 10 rows of X:\\n\", X[:10])\n",
        "\n",
        "sepallength = X[:, 0]\n",
        "sepalwidth = X[:,1]\n",
        "# print(sepallength, sepalwidth)\n",
        "\n",
        "plt.scatter(sepallength, sepalwidth)\n",
        "plt.xlabel(\"sepal length (cm)\")\n",
        "plt.ylabel(\"sepal width (cm)\")\n",
        "plt.show()"
      ],
      "metadata": {
        "colab": {
          "base_uri": "https://localhost:8080/",
          "height": 317
        },
        "id": "_gSeJf42u49E",
        "outputId": "9ce892ee-ec9e-46c9-81fc-876370834897"
      },
      "execution_count": null,
      "outputs": [
        {
          "output_type": "stream",
          "name": "stdout",
          "text": [
            "Feature names: ['sepal length (cm)', 'sepal width (cm)', 'petal length (cm)', 'petal width (cm)']\n",
            "Target names: ['setosa' 'versicolor' 'virginica']\n"
          ]
        },
        {
          "output_type": "display_data",
          "data": {
            "text/plain": [
              "<Figure size 432x288 with 1 Axes>"
            ],
            "image/png": "[encoded data removed]"
          },
          "metadata": {
            "needs_background": "light"
          }
        }
      ]
    },
    {
      "cell_type": "markdown",
      "source": [
        "2. Draw Histogram of SepalLengthCm with proper labeling."
      ],
      "metadata": {
        "id": "5ZWZxbhmwaZj"
      }
    },
    {
      "cell_type": "code",
      "source": [
        "import numpy as np\n",
        "import pandas as pd\n",
        "import matplotlib.pyplot as plt\n",
        "\n",
        "\n",
        "plt.hist(sepallength)\n",
        "plt.xlabel(\"sepal length (cm)\")\n",
        "plt.ylabel(\"entity\")\n",
        "plt.show()"
      ],
      "metadata": {
        "colab": {
          "base_uri": "https://localhost:8080/",
          "height": 279
        },
        "id": "OiWDravOwb-O",
        "outputId": "befcd937-0bdb-4c5a-9c49-d548b3c31d64"
      },
      "execution_count": null,
      "outputs": [
        {
          "output_type": "display_data",
          "data": {
            "text/plain": [
              "<Figure size 432x288 with 1 Axes>"
            ],
            "image/png": "[encoded data removed]"
          },
          "metadata": {
            "needs_background": "light"
          }
        }
      ]
    },
    {
      "cell_type": "markdown",
      "source": [
        "3. Plot bar chart of Species.\n",
        "4. Count total null values for each column in this dataset."
      ],
      "metadata": {
        "id": "sATzAkhHxniW"
      }
    },
    {
      "cell_type": "code",
      "source": [
        "import numpy as np\n",
        "import pandas as pd\n",
        "import matplotlib.pyplot as plt\n",
        "\n",
        "from sklearn.datasets import load_iris #various toy datasets\n",
        "from sklearn import metrics #Check accuracy of model\n",
        "\n",
        "iris = load_iris()\n",
        "\n",
        "X = iris.data\n",
        "\n",
        "# printing null value for each column\n",
        "iris_df = pd.DataFrame(iris.data, columns = iris.feature_names)\n",
        "print(\"NULL values\")\n",
        "iris_df.isnull().sum()\n",
        "\n",
        "\n",
        "#i) Print first 5 rows of SepalLengthCm. ii)\n",
        "print(\"first 5 rows of SepalLengthCm\")\n",
        "sepallen = X[:5, 0]\n",
        "print(sepallen)\n",
        "\n",
        "print(\"Print from 5th row onwards all columns\")\n",
        "allcol = iris_df.iloc[5:, :]\n",
        "print(allcol)\n",
        "\n"
      ],
      "metadata": {
        "colab": {
          "base_uri": "https://localhost:8080/"
        },
        "id": "AaXKlcvDxovN",
        "outputId": "2dc187c9-0826-42fb-fd4c-529b83ff6e4a"
      },
      "execution_count": null,
      "outputs": [
        {
          "output_type": "stream",
          "name": "stdout",
          "text": [
            "NULL values\n",
            "first 5 rows of SepalLengthCm\n",
            "[5.1 4.9 4.7 4.6 5. ]\n",
            "Print from 5th row onwards all columns\n",
            "     sepal length (cm)  sepal width (cm)  petal length (cm)  petal width (cm)\n",
            "5                  5.4               3.9                1.7               0.4\n",
            "6                  4.6               3.4                1.4               0.3\n",
            "7                  5.0               3.4                1.5               0.2\n",
            "8                  4.4               2.9                1.4               0.2\n",
            "9                  4.9               3.1                1.5               0.1\n",
            "..                 ...               ...                ...               ...\n",
            "145                6.7               3.0                5.2               2.3\n",
            "146                6.3               2.5                5.0               1.9\n",
            "147                6.5               3.0                5.2               2.0\n",
            "148                6.2               3.4                5.4               2.3\n",
            "149                5.9               3.0                5.1               1.8\n",
            "\n",
            "[145 rows x 4 columns]\n"
          ]
        }
      ]
    },
    {
      "cell_type": "markdown",
      "source": [
        "Practice during lab session"
      ],
      "metadata": {
        "id": "oXRRL_Sq24ej"
      }
    },
    {
      "cell_type": "code",
      "source": [
        "all_positive_tweets = twitter_samples.strings('positive_tweets.json')\n",
        "all_negative_tweets = twitter_samples.strings('negative_tweets.json')\n",
        "\n",
        "print('Number of positive tweets: ', len(all_positive_tweets))\n",
        "print('Number of negative tweets: ', len(all_negative_tweets))\n",
        "print('\\nThe type of all_positive_tweets is: ', type(all_positive_tweets))\n",
        "print('The type of a tweet entry is: ', type(all_negative_tweets[0]))\n",
        "\n",
        "fig = plt.figure(figsize=(10, 10))\n",
        "labels = 'ML-HAP-Lec', 'ML-SPS-Lec','ML-HAP-Lab','ML-SPS-Lab'\n",
        "sizes = [35, 35, 15,15]\n",
        "plt.pie(sizes, labels=labels, autopct='%.02f%%',\n",
        "shadow=True, startangle=90)\n",
        "plt.axis('equal')\n",
        "plt.show()"
      ],
      "metadata": {
        "colab": {
          "base_uri": "https://localhost:8080/",
          "height": 665
        },
        "id": "Cc3K9i0k5xVc",
        "outputId": "afd5553d-d83c-47aa-d0d1-90a8c42bee50"
      },
      "execution_count": null,
      "outputs": [
        {
          "output_type": "stream",
          "name": "stdout",
          "text": [
            "Number of positive tweets:  5000\n",
            "Number of negative tweets:  5000\n",
            "\n",
            "The type of all_positive_tweets is:  <class 'list'>\n",
            "The type of a tweet entry is:  <class 'str'>\n"
          ]
        },
        {
          "output_type": "display_data",
          "data": {
            "text/plain": [
              "<Figure size 720x720 with 1 Axes>"
            ],
            "image/png": "[encoded data removed]"
          },
          "metadata": {}
        }
      ]
    },
    {
      "cell_type": "code",
      "source": [
        "fig = plt.figure(figsize=(5, 5))\n",
        "labels = 'Positives', 'Negative'\n",
        "sizes = [len(all_positive_tweets), len(all_negative_tweets)]\n",
        "plt.pie(sizes, labels=labels, autopct='%1.1f%%',\n",
        "shadow=True, startangle=90)\n",
        "print('\\033[92m' + all_positive_tweets[random.randint(0,5000)])\n",
        "plt.axis('equal')\n",
        "plt.show()"
      ],
      "metadata": {
        "colab": {
          "base_uri": "https://localhost:8080/",
          "height": 320
        },
        "id": "Fy3-enoA6Vq2",
        "outputId": "ab1c0b6e-6909-429e-ca1d-5c4f1d4c9339"
      },
      "execution_count": null,
      "outputs": [
        {
          "output_type": "stream",
          "name": "stdout",
          "text": [
            "\u001b[92m@JCMag82 Hi John, please call +33 1 64 74 40 00 or go to City Hall to know if someone found Ted. Have a lovely day :)\n"
          ]
        },
        {
          "output_type": "display_data",
          "data": {
            "text/plain": [
              "<Figure size 360x360 with 1 Axes>"
            ],
            "image/png": "[encoded data removed]"
          },
          "metadata": {}
        }
      ]
    },
    {
      "cell_type": "code",
      "source": [
        "import numpy as np\n",
        "import pandas as pd\n",
        "import matplotlib.pyplot as plt\n",
        "\n",
        "data = pd.read_csv('/content/drive/MyDrive/WAD/mtcars.csv')\n",
        "d= pd.crosstab(index=data['cyl'],columns=\"count\",dropna=True)\n",
        "print(d)\n",
        "\n",
        "data.head()\n",
        "\n"
      ],
      "metadata": {
        "colab": {
          "base_uri": "https://localhost:8080/",
          "height": 293
        },
        "id": "oNRHwYnS6naF",
        "outputId": "feafeb60-3724-4ff1-a879-268d51e141e2"
      },
      "execution_count": null,
      "outputs": [
        {
          "output_type": "stream",
          "name": "stdout",
          "text": [
            "col_0  count\n",
            "cyl         \n",
            "4         11\n",
            "6          7\n",
            "8         14\n"
          ]
        },
        {
          "output_type": "execute_result",
          "data": {
            "text/plain": [
              "          Unnamed: 0   mpg  cyl   disp   hp  drat     wt   qsec  vs  am  gear  \\\n",
              "0          Mazda RX4  21.0    6  160.0  110  3.90  2.620  16.46   0   1     4   \n",
              "1      Mazda RX4 Wag  21.0    6  160.0  110  3.90  2.875  17.02   0   1     4   \n",
              "2         Datsun 710  22.8    4  108.0   93  3.85  2.320  18.61   1   1     4   \n",
              "3     Hornet 4 Drive  21.4    6  258.0  110  3.08  3.215  19.44   1   0     3   \n",
              "4  Hornet Sportabout  18.7    8  360.0  175  3.15  3.440  17.02   0   0     3   \n",
              "\n",
              "   carb  \n",
              "0     4  \n",
              "1     4  \n",
              "2     1  \n",
              "3     1  \n",
              "4     2  "
            ],
            "text/html": [
              "\n",
              "  <div id=\"df-75388b1b-c89b-45b7-af15-6667817af221\">\n",
              "    <div class=\"colab-df-container\">\n",
              "      <div>\n",
              "<style scoped>\n",
              "    .dataframe tbody tr th:only-of-type {\n",
              "        vertical-align: middle;\n",
              "    }\n",
              "\n",
              "    .dataframe tbody tr th {\n",
              "        vertical-align: top;\n",
              "    }\n",
              "\n",
              "    .dataframe thead th {\n",
              "        text-align: right;\n",
              "    }\n",
              "</style>\n",
              "<table border=\"1\" class=\"dataframe\">\n",
              "  <thead>\n",
              "    <tr style=\"text-align: right;\">\n",
              "      <th></th>\n",
              "      <th>Unnamed: 0</th>\n",
              "      <th>mpg</th>\n",
              "      <th>cyl</th>\n",
              "      <th>disp</th>\n",
              "      <th>hp</th>\n",
              "      <th>drat</th>\n",
              "      <th>wt</th>\n",
              "      <th>qsec</th>\n",
              "      <th>vs</th>\n",
              "      <th>am</th>\n",
              "      <th>gear</th>\n",
              "      <th>carb</th>\n",
              "    </tr>\n",
              "  </thead>\n",
              "  <tbody>\n",
              "    <tr>\n",
              "      <th>0</th>\n",
              "      <td>Mazda RX4</td>\n",
              "      <td>21.0</td>\n",
              "      <td>6</td>\n",
              "      <td>160.0</td>\n",
              "      <td>110</td>\n",
              "      <td>3.90</td>\n",
              "      <td>2.620</td>\n",
              "      <td>16.46</td>\n",
              "      <td>0</td>\n",
              "      <td>1</td>\n",
              "      <td>4</td>\n",
              "      <td>4</td>\n",
              "    </tr>\n",
              "    <tr>\n",
              "      <th>1</th>\n",
              "      <td>Mazda RX4 Wag</td>\n",
              "      <td>21.0</td>\n",
              "      <td>6</td>\n",
              "      <td>160.0</td>\n",
              "      <td>110</td>\n",
              "      <td>3.90</td>\n",
              "      <td>2.875</td>\n",
              "      <td>17.02</td>\n",
              "      <td>0</td>\n",
              "      <td>1</td>\n",
              "      <td>4</td>\n",
              "      <td>4</td>\n",
              "    </tr>\n",
              "    <tr>\n",
              "      <th>2</th>\n",
              "      <td>Datsun 710</td>\n",
              "      <td>22.8</td>\n",
              "      <td>4</td>\n",
              "      <td>108.0</td>\n",
              "      <td>93</td>\n",
              "      <td>3.85</td>\n",
              "      <td>2.320</td>\n",
              "      <td>18.61</td>\n",
              "      <td>1</td>\n",
              "      <td>1</td>\n",
              "      <td>4</td>\n",
              "      <td>1</td>\n",
              "    </tr>\n",
              "    <tr>\n",
              "      <th>3</th>\n",
              "      <td>Hornet 4 Drive</td>\n",
              "      <td>21.4</td>\n",
              "      <td>6</td>\n",
              "      <td>258.0</td>\n",
              "      <td>110</td>\n",
              "      <td>3.08</td>\n",
              "      <td>3.215</td>\n",
              "      <td>19.44</td>\n",
              "      <td>1</td>\n",
              "      <td>0</td>\n",
              "      <td>3</td>\n",
              "      <td>1</td>\n",
              "    </tr>\n",
              "    <tr>\n",
              "      <th>4</th>\n",
              "      <td>Hornet Sportabout</td>\n",
              "      <td>18.7</td>\n",
              "      <td>8</td>\n",
              "      <td>360.0</td>\n",
              "      <td>175</td>\n",
              "      <td>3.15</td>\n",
              "      <td>3.440</td>\n",
              "      <td>17.02</td>\n",
              "      <td>0</td>\n",
              "      <td>0</td>\n",
              "      <td>3</td>\n",
              "      <td>2</td>\n",
              "    </tr>\n",
              "  </tbody>\n",
              "</table>\n",
              "</div>\n",
              "      <button class=\"colab-df-convert\" onclick=\"convertToInteractive('df-75388b1b-c89b-45b7-af15-6667817af221')\"\n",
              "              title=\"Convert this dataframe to an interactive table.\"\n",
              "              style=\"display:none;\">\n",
              "        \n",
              "  <svg xmlns=\"http://www.w3.org/2000/svg\" height=\"24px\"viewBox=\"0 0 24 24\"\n",
              "       width=\"24px\">\n",
              "    <path d=\"M0 0h24v24H0V0z\" fill=\"none\"/>\n",
              "    <path d=\"M18.56 5.44l.94 2.06.94-2.06 2.06-.94-2.06-.94-.94-2.06-.94 2.06-2.06.94zm-11 1L8.5 8.5l.94-2.06 2.06-.94-2.06-.94L8.5 2.5l-.94 2.06-2.06.94zm10 10l.94 2.06.94-2.06 2.06-.94-2.06-.94-.94-2.06-.94 2.06-2.06.94z\"/><path d=\"M17.41 7.96l-1.37-1.37c-.4-.4-.92-.59-1.43-.59-.52 0-1.04.2-1.43.59L10.3 9.45l-7.72 7.72c-.78.78-.78 2.05 0 2.83L4 21.41c.39.39.9.59 1.41.59.51 0 1.02-.2 1.41-.59l7.78-7.78 2.81-2.81c.8-.78.8-2.07 0-2.86zM5.41 20L4 18.59l7.72-7.72 1.47 1.35L5.41 20z\"/>\n",
              "  </svg>\n",
              "      </button>\n",
              "      \n",
              "  <style>\n",
              "    .colab-df-container {\n",
              "      display:flex;\n",
              "      flex-wrap:wrap;\n",
              "      gap: 12px;\n",
              "    }\n",
              "\n",
              "    .colab-df-convert {\n",
              "      background-color: #E8F0FE;\n",
              "      border: none;\n",
              "      border-radius: 50%;\n",
              "      cursor: pointer;\n",
              "      display: none;\n",
              "      fill: #1967D2;\n",
              "      height: 32px;\n",
              "      padding: 0 0 0 0;\n",
              "      width: 32px;\n",
              "    }\n",
              "\n",
              "    .colab-df-convert:hover {\n",
              "      background-color: #E2EBFA;\n",
              "      box-shadow: 0px 1px 2px rgba(60, 64, 67, 0.3), 0px 1px 3px 1px rgba(60, 64, 67, 0.15);\n",
              "      fill: #174EA6;\n",
              "    }\n",
              "\n",
              "    [theme=dark] .colab-df-convert {\n",
              "      background-color: #3B4455;\n",
              "      fill: #D2E3FC;\n",
              "    }\n",
              "\n",
              "    [theme=dark] .colab-df-convert:hover {\n",
              "      background-color: #434B5C;\n",
              "      box-shadow: 0px 1px 3px 1px rgba(0, 0, 0, 0.15);\n",
              "      filter: drop-shadow(0px 1px 2px rgba(0, 0, 0, 0.3));\n",
              "      fill: #FFFFFF;\n",
              "    }\n",
              "  </style>\n",
              "\n",
              "      <script>\n",
              "        const buttonEl =\n",
              "          document.querySelector('#df-75388b1b-c89b-45b7-af15-6667817af221 button.colab-df-convert');\n",
              "        buttonEl.style.display =\n",
              "          google.colab.kernel.accessAllowed ? 'block' : 'none';\n",
              "\n",
              "        async function convertToInteractive(key) {\n",
              "          const element = document.querySelector('#df-75388b1b-c89b-45b7-af15-6667817af221');\n",
              "          const dataTable =\n",
              "            await google.colab.kernel.invokeFunction('convertToInteractive',\n",
              "                                                     [key], {});\n",
              "          if (!dataTable) return;\n",
              "\n",
              "          const docLinkHtml = 'Like what you see? Visit the ' +\n",
              "            '<a target=\"_blank\" href=https://colab.research.google.com/notebooks/data_table.ipynb>data table notebook</a>'\n",
              "            + ' to learn more about interactive tables.';\n",
              "          element.innerHTML = '';\n",
              "          dataTable['output_type'] = 'display_data';\n",
              "          await google.colab.output.renderOutput(dataTable, element);\n",
              "          const docLink = document.createElement('div');\n",
              "          docLink.innerHTML = docLinkHtml;\n",
              "          element.appendChild(docLink);\n",
              "        }\n",
              "      </script>\n",
              "    </div>\n",
              "  </div>\n",
              "  "
            ]
          },
          "metadata": {},
          "execution_count": 3
        }
      ]
    },
    {
      "cell_type": "code",
      "source": [
        "data.tail()"
      ],
      "metadata": {
        "colab": {
          "base_uri": "https://localhost:8080/",
          "height": 206
        },
        "id": "DzX-ZvPL_sda",
        "outputId": "5e885940-7651-4d6a-e2f5-5e6f23b6b955"
      },
      "execution_count": null,
      "outputs": [
        {
          "output_type": "execute_result",
          "data": {
            "text/plain": [
              "        Unnamed: 0   mpg  cyl   disp   hp  drat     wt  qsec  vs  am  gear  \\\n",
              "27    Lotus Europa  30.4    4   95.1  113  3.77  1.513  16.9   1   1     5   \n",
              "28  Ford Pantera L  15.8    8  351.0  264  4.22  3.170  14.5   0   1     5   \n",
              "29    Ferrari Dino  19.7    6  145.0  175  3.62  2.770  15.5   0   1     5   \n",
              "30   Maserati Bora  15.0    8  301.0  335  3.54  3.570  14.6   0   1     5   \n",
              "31      Volvo 142E  21.4    4  121.0  109  4.11  2.780  18.6   1   1     4   \n",
              "\n",
              "    carb  \n",
              "27     2  \n",
              "28     4  \n",
              "29     6  \n",
              "30     8  \n",
              "31     2  "
            ],
            "text/html": [
              "\n",
              "  <div id=\"df-65039792-67f6-426b-889f-f743a8965396\">\n",
              "    <div class=\"colab-df-container\">\n",
              "      <div>\n",
              "<style scoped>\n",
              "    .dataframe tbody tr th:only-of-type {\n",
              "        vertical-align: middle;\n",
              "    }\n",
              "\n",
              "    .dataframe tbody tr th {\n",
              "        vertical-align: top;\n",
              "    }\n",
              "\n",
              "    .dataframe thead th {\n",
              "        text-align: right;\n",
              "    }\n",
              "</style>\n",
              "<table border=\"1\" class=\"dataframe\">\n",
              "  <thead>\n",
              "    <tr style=\"text-align: right;\">\n",
              "      <th></th>\n",
              "      <th>Unnamed: 0</th>\n",
              "      <th>mpg</th>\n",
              "      <th>cyl</th>\n",
              "      <th>disp</th>\n",
              "      <th>hp</th>\n",
              "      <th>drat</th>\n",
              "      <th>wt</th>\n",
              "      <th>qsec</th>\n",
              "      <th>vs</th>\n",
              "      <th>am</th>\n",
              "      <th>gear</th>\n",
              "      <th>carb</th>\n",
              "    </tr>\n",
              "  </thead>\n",
              "  <tbody>\n",
              "    <tr>\n",
              "      <th>27</th>\n",
              "      <td>Lotus Europa</td>\n",
              "      <td>30.4</td>\n",
              "      <td>4</td>\n",
              "      <td>95.1</td>\n",
              "      <td>113</td>\n",
              "      <td>3.77</td>\n",
              "      <td>1.513</td>\n",
              "      <td>16.9</td>\n",
              "      <td>1</td>\n",
              "      <td>1</td>\n",
              "      <td>5</td>\n",
              "      <td>2</td>\n",
              "    </tr>\n",
              "    <tr>\n",
              "      <th>28</th>\n",
              "      <td>Ford Pantera L</td>\n",
              "      <td>15.8</td>\n",
              "      <td>8</td>\n",
              "      <td>351.0</td>\n",
              "      <td>264</td>\n",
              "      <td>4.22</td>\n",
              "      <td>3.170</td>\n",
              "      <td>14.5</td>\n",
              "      <td>0</td>\n",
              "      <td>1</td>\n",
              "      <td>5</td>\n",
              "      <td>4</td>\n",
              "    </tr>\n",
              "    <tr>\n",
              "      <th>29</th>\n",
              "      <td>Ferrari Dino</td>\n",
              "      <td>19.7</td>\n",
              "      <td>6</td>\n",
              "      <td>145.0</td>\n",
              "      <td>175</td>\n",
              "      <td>3.62</td>\n",
              "      <td>2.770</td>\n",
              "      <td>15.5</td>\n",
              "      <td>0</td>\n",
              "      <td>1</td>\n",
              "      <td>5</td>\n",
              "      <td>6</td>\n",
              "    </tr>\n",
              "    <tr>\n",
              "      <th>30</th>\n",
              "      <td>Maserati Bora</td>\n",
              "      <td>15.0</td>\n",
              "      <td>8</td>\n",
              "      <td>301.0</td>\n",
              "      <td>335</td>\n",
              "      <td>3.54</td>\n",
              "      <td>3.570</td>\n",
              "      <td>14.6</td>\n",
              "      <td>0</td>\n",
              "      <td>1</td>\n",
              "      <td>5</td>\n",
              "      <td>8</td>\n",
              "    </tr>\n",
              "    <tr>\n",
              "      <th>31</th>\n",
              "      <td>Volvo 142E</td>\n",
              "      <td>21.4</td>\n",
              "      <td>4</td>\n",
              "      <td>121.0</td>\n",
              "      <td>109</td>\n",
              "      <td>4.11</td>\n",
              "      <td>2.780</td>\n",
              "      <td>18.6</td>\n",
              "      <td>1</td>\n",
              "      <td>1</td>\n",
              "      <td>4</td>\n",
              "      <td>2</td>\n",
              "    </tr>\n",
              "  </tbody>\n",
              "</table>\n",
              "</div>\n",
              "      <button class=\"colab-df-convert\" onclick=\"convertToInteractive('df-65039792-67f6-426b-889f-f743a8965396')\"\n",
              "              title=\"Convert this dataframe to an interactive table.\"\n",
              "              style=\"display:none;\">\n",
              "        \n",
              "  <svg xmlns=\"http://www.w3.org/2000/svg\" height=\"24px\"viewBox=\"0 0 24 24\"\n",
              "       width=\"24px\">\n",
              "    <path d=\"M0 0h24v24H0V0z\" fill=\"none\"/>\n",
              "    <path d=\"M18.56 5.44l.94 2.06.94-2.06 2.06-.94-2.06-.94-.94-2.06-.94 2.06-2.06.94zm-11 1L8.5 8.5l.94-2.06 2.06-.94-2.06-.94L8.5 2.5l-.94 2.06-2.06.94zm10 10l.94 2.06.94-2.06 2.06-.94-2.06-.94-.94-2.06-.94 2.06-2.06.94z\"/><path d=\"M17.41 7.96l-1.37-1.37c-.4-.4-.92-.59-1.43-.59-.52 0-1.04.2-1.43.59L10.3 9.45l-7.72 7.72c-.78.78-.78 2.05 0 2.83L4 21.41c.39.39.9.59 1.41.59.51 0 1.02-.2 1.41-.59l7.78-7.78 2.81-2.81c.8-.78.8-2.07 0-2.86zM5.41 20L4 18.59l7.72-7.72 1.47 1.35L5.41 20z\"/>\n",
              "  </svg>\n",
              "      </button>\n",
              "      \n",
              "  <style>\n",
              "    .colab-df-container {\n",
              "      display:flex;\n",
              "      flex-wrap:wrap;\n",
              "      gap: 12px;\n",
              "    }\n",
              "\n",
              "    .colab-df-convert {\n",
              "      background-color: #E8F0FE;\n",
              "      border: none;\n",
              "      border-radius: 50%;\n",
              "      cursor: pointer;\n",
              "      display: none;\n",
              "      fill: #1967D2;\n",
              "      height: 32px;\n",
              "      padding: 0 0 0 0;\n",
              "      width: 32px;\n",
              "    }\n",
              "\n",
              "    .colab-df-convert:hover {\n",
              "      background-color: #E2EBFA;\n",
              "      box-shadow: 0px 1px 2px rgba(60, 64, 67, 0.3), 0px 1px 3px 1px rgba(60, 64, 67, 0.15);\n",
              "      fill: #174EA6;\n",
              "    }\n",
              "\n",
              "    [theme=dark] .colab-df-convert {\n",
              "      background-color: #3B4455;\n",
              "      fill: #D2E3FC;\n",
              "    }\n",
              "\n",
              "    [theme=dark] .colab-df-convert:hover {\n",
              "      background-color: #434B5C;\n",
              "      box-shadow: 0px 1px 3px 1px rgba(0, 0, 0, 0.15);\n",
              "      filter: drop-shadow(0px 1px 2px rgba(0, 0, 0, 0.3));\n",
              "      fill: #FFFFFF;\n",
              "    }\n",
              "  </style>\n",
              "\n",
              "      <script>\n",
              "        const buttonEl =\n",
              "          document.querySelector('#df-65039792-67f6-426b-889f-f743a8965396 button.colab-df-convert');\n",
              "        buttonEl.style.display =\n",
              "          google.colab.kernel.accessAllowed ? 'block' : 'none';\n",
              "\n",
              "        async function convertToInteractive(key) {\n",
              "          const element = document.querySelector('#df-65039792-67f6-426b-889f-f743a8965396');\n",
              "          const dataTable =\n",
              "            await google.colab.kernel.invokeFunction('convertToInteractive',\n",
              "                                                     [key], {});\n",
              "          if (!dataTable) return;\n",
              "\n",
              "          const docLinkHtml = 'Like what you see? Visit the ' +\n",
              "            '<a target=\"_blank\" href=https://colab.research.google.com/notebooks/data_table.ipynb>data table notebook</a>'\n",
              "            + ' to learn more about interactive tables.';\n",
              "          element.innerHTML = '';\n",
              "          dataTable['output_type'] = 'display_data';\n",
              "          await google.colab.output.renderOutput(dataTable, element);\n",
              "          const docLink = document.createElement('div');\n",
              "          docLink.innerHTML = docLinkHtml;\n",
              "          element.appendChild(docLink);\n",
              "        }\n",
              "      </script>\n",
              "    </div>\n",
              "  </div>\n",
              "  "
            ]
          },
          "metadata": {},
          "execution_count": 29
        }
      ]
    },
    {
      "cell_type": "code",
      "source": [
        "data.describe()"
      ],
      "metadata": {
        "colab": {
          "base_uri": "https://localhost:8080/",
          "height": 300
        },
        "id": "DUAVb6ps_w-u",
        "outputId": "587268c6-90da-40d0-ce62-5967aac748c9"
      },
      "execution_count": null,
      "outputs": [
        {
          "output_type": "execute_result",
          "data": {
            "text/plain": [
              "             mpg        cyl        disp          hp       drat         wt  \\\n",
              "count  32.000000  32.000000   32.000000   32.000000  32.000000  32.000000   \n",
              "mean   20.090625   6.187500  230.721875  146.687500   3.596563   3.217250   \n",
              "std     6.026948   1.785922  123.938694   68.562868   0.534679   0.978457   \n",
              "min    10.400000   4.000000   71.100000   52.000000   2.760000   1.513000   \n",
              "25%    15.425000   4.000000  120.825000   96.500000   3.080000   2.581250   \n",
              "50%    19.200000   6.000000  196.300000  123.000000   3.695000   3.325000   \n",
              "75%    22.800000   8.000000  326.000000  180.000000   3.920000   3.610000   \n",
              "max    33.900000   8.000000  472.000000  335.000000   4.930000   5.424000   \n",
              "\n",
              "            qsec         vs         am       gear     carb  \n",
              "count  32.000000  32.000000  32.000000  32.000000  32.0000  \n",
              "mean   17.848750   0.437500   0.406250   3.687500   2.8125  \n",
              "std     1.786943   0.504016   0.498991   0.737804   1.6152  \n",
              "min    14.500000   0.000000   0.000000   3.000000   1.0000  \n",
              "25%    16.892500   0.000000   0.000000   3.000000   2.0000  \n",
              "50%    17.710000   0.000000   0.000000   4.000000   2.0000  \n",
              "75%    18.900000   1.000000   1.000000   4.000000   4.0000  \n",
              "max    22.900000   1.000000   1.000000   5.000000   8.0000  "
            ],
            "text/html": [
              "\n",
              "  <div id=\"df-46cef510-6171-4618-bebf-0c8594121c77\">\n",
              "    <div class=\"colab-df-container\">\n",
              "      <div>\n",
              "<style scoped>\n",
              "    .dataframe tbody tr th:only-of-type {\n",
              "        vertical-align: middle;\n",
              "    }\n",
              "\n",
              "    .dataframe tbody tr th {\n",
              "        vertical-align: top;\n",
              "    }\n",
              "\n",
              "    .dataframe thead th {\n",
              "        text-align: right;\n",
              "    }\n",
              "</style>\n",
              "<table border=\"1\" class=\"dataframe\">\n",
              "  <thead>\n",
              "    <tr style=\"text-align: right;\">\n",
              "      <th></th>\n",
              "      <th>mpg</th>\n",
              "      <th>cyl</th>\n",
              "      <th>disp</th>\n",
              "      <th>hp</th>\n",
              "      <th>drat</th>\n",
              "      <th>wt</th>\n",
              "      <th>qsec</th>\n",
              "      <th>vs</th>\n",
              "      <th>am</th>\n",
              "      <th>gear</th>\n",
              "      <th>carb</th>\n",
              "    </tr>\n",
              "  </thead>\n",
              "  <tbody>\n",
              "    <tr>\n",
              "      <th>count</th>\n",
              "      <td>32.000000</td>\n",
              "      <td>32.000000</td>\n",
              "      <td>32.000000</td>\n",
              "      <td>32.000000</td>\n",
              "      <td>32.000000</td>\n",
              "      <td>32.000000</td>\n",
              "      <td>32.000000</td>\n",
              "      <td>32.000000</td>\n",
              "      <td>32.000000</td>\n",
              "      <td>32.000000</td>\n",
              "      <td>32.0000</td>\n",
              "    </tr>\n",
              "    <tr>\n",
              "      <th>mean</th>\n",
              "      <td>20.090625</td>\n",
              "      <td>6.187500</td>\n",
              "      <td>230.721875</td>\n",
              "      <td>146.687500</td>\n",
              "      <td>3.596563</td>\n",
              "      <td>3.217250</td>\n",
              "      <td>17.848750</td>\n",
              "      <td>0.437500</td>\n",
              "      <td>0.406250</td>\n",
              "      <td>3.687500</td>\n",
              "      <td>2.8125</td>\n",
              "    </tr>\n",
              "    <tr>\n",
              "      <th>std</th>\n",
              "      <td>6.026948</td>\n",
              "      <td>1.785922</td>\n",
              "      <td>123.938694</td>\n",
              "      <td>68.562868</td>\n",
              "      <td>0.534679</td>\n",
              "      <td>0.978457</td>\n",
              "      <td>1.786943</td>\n",
              "      <td>0.504016</td>\n",
              "      <td>0.498991</td>\n",
              "      <td>0.737804</td>\n",
              "      <td>1.6152</td>\n",
              "    </tr>\n",
              "    <tr>\n",
              "      <th>min</th>\n",
              "      <td>10.400000</td>\n",
              "      <td>4.000000</td>\n",
              "      <td>71.100000</td>\n",
              "      <td>52.000000</td>\n",
              "      <td>2.760000</td>\n",
              "      <td>1.513000</td>\n",
              "      <td>14.500000</td>\n",
              "      <td>0.000000</td>\n",
              "      <td>0.000000</td>\n",
              "      <td>3.000000</td>\n",
              "      <td>1.0000</td>\n",
              "    </tr>\n",
              "    <tr>\n",
              "      <th>25%</th>\n",
              "      <td>15.425000</td>\n",
              "      <td>4.000000</td>\n",
              "      <td>120.825000</td>\n",
              "      <td>96.500000</td>\n",
              "      <td>3.080000</td>\n",
              "      <td>2.581250</td>\n",
              "      <td>16.892500</td>\n",
              "      <td>0.000000</td>\n",
              "      <td>0.000000</td>\n",
              "      <td>3.000000</td>\n",
              "      <td>2.0000</td>\n",
              "    </tr>\n",
              "    <tr>\n",
              "      <th>50%</th>\n",
              "      <td>19.200000</td>\n",
              "      <td>6.000000</td>\n",
              "      <td>196.300000</td>\n",
              "      <td>123.000000</td>\n",
              "      <td>3.695000</td>\n",
              "      <td>3.325000</td>\n",
              "      <td>17.710000</td>\n",
              "      <td>0.000000</td>\n",
              "      <td>0.000000</td>\n",
              "      <td>4.000000</td>\n",
              "      <td>2.0000</td>\n",
              "    </tr>\n",
              "    <tr>\n",
              "      <th>75%</th>\n",
              "      <td>22.800000</td>\n",
              "      <td>8.000000</td>\n",
              "      <td>326.000000</td>\n",
              "      <td>180.000000</td>\n",
              "      <td>3.920000</td>\n",
              "      <td>3.610000</td>\n",
              "      <td>18.900000</td>\n",
              "      <td>1.000000</td>\n",
              "      <td>1.000000</td>\n",
              "      <td>4.000000</td>\n",
              "      <td>4.0000</td>\n",
              "    </tr>\n",
              "    <tr>\n",
              "      <th>max</th>\n",
              "      <td>33.900000</td>\n",
              "      <td>8.000000</td>\n",
              "      <td>472.000000</td>\n",
              "      <td>335.000000</td>\n",
              "      <td>4.930000</td>\n",
              "      <td>5.424000</td>\n",
              "      <td>22.900000</td>\n",
              "      <td>1.000000</td>\n",
              "      <td>1.000000</td>\n",
              "      <td>5.000000</td>\n",
              "      <td>8.0000</td>\n",
              "    </tr>\n",
              "  </tbody>\n",
              "</table>\n",
              "</div>\n",
              "      <button class=\"colab-df-convert\" onclick=\"convertToInteractive('df-46cef510-6171-4618-bebf-0c8594121c77')\"\n",
              "              title=\"Convert this dataframe to an interactive table.\"\n",
              "              style=\"display:none;\">\n",
              "        \n",
              "  <svg xmlns=\"http://www.w3.org/2000/svg\" height=\"24px\"viewBox=\"0 0 24 24\"\n",
              "       width=\"24px\">\n",
              "    <path d=\"M0 0h24v24H0V0z\" fill=\"none\"/>\n",
              "    <path d=\"M18.56 5.44l.94 2.06.94-2.06 2.06-.94-2.06-.94-.94-2.06-.94 2.06-2.06.94zm-11 1L8.5 8.5l.94-2.06 2.06-.94-2.06-.94L8.5 2.5l-.94 2.06-2.06.94zm10 10l.94 2.06.94-2.06 2.06-.94-2.06-.94-.94-2.06-.94 2.06-2.06.94z\"/><path d=\"M17.41 7.96l-1.37-1.37c-.4-.4-.92-.59-1.43-.59-.52 0-1.04.2-1.43.59L10.3 9.45l-7.72 7.72c-.78.78-.78 2.05 0 2.83L4 21.41c.39.39.9.59 1.41.59.51 0 1.02-.2 1.41-.59l7.78-7.78 2.81-2.81c.8-.78.8-2.07 0-2.86zM5.41 20L4 18.59l7.72-7.72 1.47 1.35L5.41 20z\"/>\n",
              "  </svg>\n",
              "      </button>\n",
              "      \n",
              "  <style>\n",
              "    .colab-df-container {\n",
              "      display:flex;\n",
              "      flex-wrap:wrap;\n",
              "      gap: 12px;\n",
              "    }\n",
              "\n",
              "    .colab-df-convert {\n",
              "      background-color: #E8F0FE;\n",
              "      border: none;\n",
              "      border-radius: 50%;\n",
              "      cursor: pointer;\n",
              "      display: none;\n",
              "      fill: #1967D2;\n",
              "      height: 32px;\n",
              "      padding: 0 0 0 0;\n",
              "      width: 32px;\n",
              "    }\n",
              "\n",
              "    .colab-df-convert:hover {\n",
              "      background-color: #E2EBFA;\n",
              "      box-shadow: 0px 1px 2px rgba(60, 64, 67, 0.3), 0px 1px 3px 1px rgba(60, 64, 67, 0.15);\n",
              "      fill: #174EA6;\n",
              "    }\n",
              "\n",
              "    [theme=dark] .colab-df-convert {\n",
              "      background-color: #3B4455;\n",
              "      fill: #D2E3FC;\n",
              "    }\n",
              "\n",
              "    [theme=dark] .colab-df-convert:hover {\n",
              "      background-color: #434B5C;\n",
              "      box-shadow: 0px 1px 3px 1px rgba(0, 0, 0, 0.15);\n",
              "      filter: drop-shadow(0px 1px 2px rgba(0, 0, 0, 0.3));\n",
              "      fill: #FFFFFF;\n",
              "    }\n",
              "  </style>\n",
              "\n",
              "      <script>\n",
              "        const buttonEl =\n",
              "          document.querySelector('#df-46cef510-6171-4618-bebf-0c8594121c77 button.colab-df-convert');\n",
              "        buttonEl.style.display =\n",
              "          google.colab.kernel.accessAllowed ? 'block' : 'none';\n",
              "\n",
              "        async function convertToInteractive(key) {\n",
              "          const element = document.querySelector('#df-46cef510-6171-4618-bebf-0c8594121c77');\n",
              "          const dataTable =\n",
              "            await google.colab.kernel.invokeFunction('convertToInteractive',\n",
              "                                                     [key], {});\n",
              "          if (!dataTable) return;\n",
              "\n",
              "          const docLinkHtml = 'Like what you see? Visit the ' +\n",
              "            '<a target=\"_blank\" href=https://colab.research.google.com/notebooks/data_table.ipynb>data table notebook</a>'\n",
              "            + ' to learn more about interactive tables.';\n",
              "          element.innerHTML = '';\n",
              "          dataTable['output_type'] = 'display_data';\n",
              "          await google.colab.output.renderOutput(dataTable, element);\n",
              "          const docLink = document.createElement('div');\n",
              "          docLink.innerHTML = docLinkHtml;\n",
              "          element.appendChild(docLink);\n",
              "        }\n",
              "      </script>\n",
              "    </div>\n",
              "  </div>\n",
              "  "
            ]
          },
          "metadata": {},
          "execution_count": 32
        }
      ]
    },
    {
      "cell_type": "code",
      "source": [
        "import numpy as np\n",
        "import pandas as pd\n",
        "import matplotlib.pyplot as plt\n",
        "plt.hist(data['mpg'],bins=5)\n",
        "plt.show()"
      ],
      "metadata": {
        "colab": {
          "base_uri": "https://localhost:8080/",
          "height": 265
        },
        "id": "pbtO1BoxAJrY",
        "outputId": "0e477661-a010-4894-cf32-04ab5041273f"
      },
      "execution_count": null,
      "outputs": [
        {
          "output_type": "display_data",
          "data": {
            "text/plain": [
              "<Figure size 432x288 with 1 Axes>"
            ],
            "image/png": "[encoded data removed]"
          },
          "metadata": {
            "needs_background": "light"
          }
        }
      ]
    },
    {
      "cell_type": "code",
      "source": [
        "plt.scatter(data['mpg'],data['wt'])\n",
        "plt.show()"
      ],
      "metadata": {
        "colab": {
          "base_uri": "https://localhost:8080/",
          "height": 265
        },
        "id": "HhkDZm-8ANz_",
        "outputId": "9123d498-9a2d-4fbb-efa8-b140102240a2"
      },
      "execution_count": null,
      "outputs": [
        {
          "output_type": "display_data",
          "data": {
            "text/plain": [
              "<Figure size 432x288 with 1 Axes>"
            ],
            "image/png": "[encoded data removed]"
          },
          "metadata": {
            "needs_background": "light"
          }
        }
      ]
    }
  ]
}