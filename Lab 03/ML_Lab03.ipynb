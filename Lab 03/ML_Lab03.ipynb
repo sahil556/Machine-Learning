{
  "nbformat": 4,
  "nbformat_minor": 0,
  "metadata": {
    "colab": {
      "provenance": []
    },
    "kernelspec": {
      "name": "python3",
      "display_name": "Python 3"
    },
    "language_info": {
      "name": "python"
    }
  },
  "cells": [
    {
      "cell_type": "markdown",
      "source": [
        "**Aim: Implement Naive Bayes classifier : Weather Example:**"
      ],
      "metadata": {
        "id": "FSsNKovLAdMh"
      }
    },
    {
      "cell_type": "markdown",
      "source": [
        "\n",
        "**output varies based on different NB classifier : i.e. Gausssian, Multinomial, Categorial**"
      ],
      "metadata": {
        "id": "vr9aEAGk_pbh"
      }
    },
    {
      "cell_type": "code",
      "execution_count": null,
      "metadata": {
        "colab": {
          "base_uri": "https://localhost:8080/"
        },
        "id": "kb8GdyMKEcJN",
        "outputId": "a886c2f6-c747-4dec-a883-6111dbfbd566"
      },
      "outputs": [
        {
          "output_type": "stream",
          "name": "stdout",
          "text": [
            "Weather: [2 2 0 1 1 1 0 2 2 1 2 0 0 1]\n",
            "Temp: [1 1 1 2 0 0 0 2 0 2 2 2 1 2]\n",
            "Play: [0 0 1 1 1 0 1 0 1 1 1 1 1 0]\n",
            "Features: ((2, 1), (2, 1), (0, 1), (1, 2), (1, 0), (1, 0), (0, 0), (2, 2), (2, 0), (1, 2), (2, 2), (0, 2), (0, 1), (1, 2))\n",
            "<class 'tuple'>\n",
            "Prediction for: weather: Sunny,  Temp: Mild\n",
            "[[-0.57536414 -0.82667857]\n",
            " [-0.86499744 -0.54654371]]\n",
            "Predicted Value: multinomial:  [1]\n",
            "Predicted Value: gaussian :  [0]\n",
            "Prdeicted :categorical :  [0]\n"
          ]
        }
      ],
      "source": [
        "from sklearn import preprocessing\n",
        "from sklearn.naive_bayes import GaussianNB, MultinomialNB, CategoricalNB\n",
        "\n",
        "\n",
        "#creating set of featurtes\n",
        "weather = ['Sunny', 'Sunny', 'Overcast', 'Rainy', 'Rainy','Rainy', 'Overcast',\n",
        "'Sunny', 'Sunny', 'Rainy', 'Sunny', 'Overcast', 'Overcast', 'Rainy']\n",
        "\n",
        "temp = ['Hot','Hot','Hot','Mild','Cool','Cool','Cool','Mild',\n",
        "'Cool','Mild','Mild','Mild','Hot','Mild']\n",
        "\n",
        "play=['No','No','Yes','Yes','Yes','No','Yes','No','Yes',\n",
        "'Yes','Yes','Yes','Yes','No']\n",
        "\n",
        "\n",
        "le = preprocessing.LabelEncoder()\n",
        "# Converting string labels into numbers.\n",
        "weather_encoded=le.fit_transform(weather)\n",
        "print(\"Weather:\" ,weather_encoded)\n",
        "\n",
        "temp_encoded=le.fit_transform(temp)\n",
        "label=le.fit_transform(play)\n",
        "print(\"Temp:\",temp_encoded)\n",
        "print(\"Play:\",label)\n",
        "\n",
        "#Combinig weather and temp into single listof tuples\n",
        "features=tuple(zip(weather_encoded,temp_encoded))\n",
        "print(\"Features:\",features)\n",
        "print(type(features))\n",
        "\n",
        "#create a classifier\n",
        "model=MultinomialNB()\n",
        "# Train the model using the training sets\n",
        "model.fit(features,label)\n",
        "\n",
        "#testing data:\n",
        "\n",
        "print(\"Prediction for: weather: Sunny,  Temp: Mild\")\n",
        "\n",
        "predicted= model.predict([[2,2]]) # 0:Overcast, 2:Mild\n",
        "print(model.feature_log_prob_);\n",
        "print(\"Predicted Value: multinomial: \", predicted)\n",
        "\n",
        "\n",
        "gnb = GaussianNB()\n",
        "gnb.fit(features, label)\n",
        "\n",
        "predicted1= gnb.predict([[2,2]]) # 0:Overcast, 2:Mild\n",
        "print(\"Predicted Value: gaussian : \", predicted1)\n",
        "\n",
        "\n",
        "cnb = CategoricalNB()\n",
        "cnb.fit(features, label)\n",
        "predicted2 = cnb.predict([[2,2]])\n",
        "print(\"Prdeicted :categorical : \", predicted2);\n"
      ]
    },
    {
      "cell_type": "markdown",
      "source": [
        "**Finding Accuracy, Precision and Recall in one example**"
      ],
      "metadata": {
        "id": "p1rmRIBxBJS_"
      }
    },
    {
      "cell_type": "code",
      "source": [
        "import numpy as np\n",
        "from sklearn import datasets\n",
        "from sklearn.naive_bayes import GaussianNB\n",
        "#Load dataset\n",
        "iris = datasets.load_iris()\n",
        "\n",
        "print(\"Features: \", iris.feature_names)\n",
        "print(\"Labels: \", iris.target_names)\n",
        "print(\"\\nData shape: \",iris.data.shape)\n",
        "print(\"\\nTraget shape: \",iris.target.shape)\n",
        "print(\"\\nData type: \",type(iris.data))\n",
        "\n",
        "newdata = iris.data[50:,:]\n",
        "newtarget = iris.target[50:]\n",
        "# print data(feature)shape\n",
        "print(\"\\nNew Data shape: \",newdata.shape)\n",
        "#print data(target)shape\n",
        "print(\"\\nNew Traget shape: \",newtarget.shape)\n",
        "\n",
        "from sklearn.model_selection import train_test_split\n",
        "data_train, data_test, target_train, target_test = train_test_split(newdata,\n",
        "newtarget, test_size = 0.30, random_state = 5)\n",
        "\n",
        "import numpy as np\n",
        "gnb = GaussianNB()\n",
        "#Train the model using the training sets\n",
        "gnb.fit(data_train, target_train)\n",
        "#Predict the response for test dataset\n",
        "target_pred = gnb.predict(data_test)\n",
        "\n",
        "from sklearn import metrics\n",
        "# Model Accuracy, how often is the classifier correct?\n",
        "print(\"Accuracy:\",metrics.accuracy_score(target_test, target_pred))\n",
        "\n",
        "from sklearn.metrics import confusion_matrix\n",
        "confusion_matrix(target_test, target_pred)\n",
        "\n",
        "from sklearn.metrics import precision_score\n",
        "from sklearn.metrics import recall_score\n",
        "precision = precision_score(target_test, target_pred)\n",
        "recall = recall_score(target_test, target_pred)\n",
        "print('precision: {}'.format(precision))\n",
        "print('recall: {}'.format(recall))"
      ],
      "metadata": {
        "colab": {
          "base_uri": "https://localhost:8080/"
        },
        "id": "COu7ZhPQYKUo",
        "outputId": "0f86d8e8-627d-40af-e5dd-ac4774aee8e1"
      },
      "execution_count": null,
      "outputs": [
        {
          "output_type": "stream",
          "name": "stdout",
          "text": [
            "Features:  ['sepal length (cm)', 'sepal width (cm)', 'petal length (cm)', 'petal width (cm)']\n",
            "Labels:  ['setosa' 'versicolor' 'virginica']\n",
            "\n",
            "Data shape:  (150, 4)\n",
            "\n",
            "Traget shape:  (150,)\n",
            "\n",
            "Data type:  <class 'numpy.ndarray'>\n",
            "\n",
            "New Data shape:  (100, 4)\n",
            "\n",
            "New Traget shape:  (100,)\n",
            "Accuracy: 0.9\n",
            "precision: 0.8888888888888888\n",
            "recall: 0.9411764705882353\n"
          ]
        }
      ]
    }
  ]
}